{
 "cells": [
  {
   "cell_type": "markdown",
   "id": "9a844847",
   "metadata": {},
   "source": [
    "# Diseño Completamente al Azar (DCA)\n",
    "\n",
    "## Resumen General\n",
    "\n",
    "El **Diseño Completamente al Azar (DCA)** se emplea cuando las unidades experimentales son homogéneas y pueden ser asignadas aleatoriamente a tratamientos sin necesidad de bloques. Se aplica frecuentemente en condiciones controladas, como laboratorios.\n",
    "\n",
    "## Modelo Estadístico\n",
    "\n",
    "El modelo estadístico para el DCA es:\n",
    "\n",
    "$$\n",
    "Y_{ij} = \\mu + \\tau_i + \\epsilon_{ij}\n",
    "$$\n",
    "\n",
    "- $Y_{ij}$: Respuesta observada para el tratamiento $i$ en la repetición $j$\n",
    "- $\\mu$: Media general\n",
    "- $\\tau_i$: Efecto del tratamiento $i$\n",
    "- $\\epsilon_{ij}$: Error aleatorio, con $E(\\epsilon_{ij}) = 0$, $Var(\\epsilon_{ij}) = \\sigma^2$\n",
    "\n",
    "## Hipótesis\n",
    "\n",
    "- **$H_0$**: $\\tau_1 = \\tau_2 = \\dots = \\tau_t$ (todos los tratamientos tienen el mismo efecto)\n",
    "- **$H_a$**: Al menos uno de los $\\tau_i$ es distinto\n",
    "\n",
    "## Supuestos del Modelo\n",
    "\n",
    "| **SUPUESTO**                  | **PRUEBA**                          | **REGLA DE DECISIÓN**                                      |\n",
    "|------------------------------|-------------------------------------|-------------------------------------------------------------|\n",
    "| Normalidad de residuos       | Shapiro-Wilk / Kolmogorov-Smirnov  | $p > \\alpha \\Rightarrow$ residuos normales                 |\n",
    "| Homogeneidad de varianzas    | Levene                              | $p > \\alpha \\Rightarrow$ varianzas homogéneas              |\n",
    "| Independencia de residuos    | Durbin-Watson                       | Estadístico $DW \\approx 2 \\Rightarrow$ residuos independientes |\n",
    "\n",
    "## ANOVA\n",
    "\n",
    "\\[\n",
    "\\begin{array}{|c|c|c|c|c|}\n",
    "\\hline\n",
    "\\textbf{Fuente} & \\textbf{GL} & \\textbf{Suma de Cuadrados (SC)} & \\textbf{Cuadrado Medio (CM)} & \\textbf{F} \\\\\n",
    "\\hline\n",
    "\\text{Tratamientos} & t - 1 & SC_{\\text{trat}} = \\sum_{i=1}^t \\frac{Y_{i.}^2}{r_i} - \\frac{Y_{..}^2}{N} & CM_{\\text{trat}} = \\frac{SC_{\\text{trat}}}{t - 1} & F = \\frac{CM_{\\text{trat}}}{CM_{\\text{error}}} \\\\\n",
    "\\hline\n",
    "\\text{Error} & \\sum r_i - t & SC_{\\text{error}} = SC_{\\text{total}} - SC_{\\text{trat}} & CM_{\\text{error}} = \\frac{SC_{\\text{error}}}{GL_{\\text{error}}} & \\\\\n",
    "\\hline\n",
    "\\text{Total} & N - 1 & SC_{\\text{total}} = \\sum_{i=1}^t \\sum_{j=1}^{r_i} Y_{ij}^2 - \\frac{Y_{..}^2}{N} & & \\\\\n",
    "\\hline\n",
    "\\end{array}\n",
    "\\]\n",
    "\n",
    "Donde:\n",
    "\n",
    "- $t$: número de tratamientos\n",
    "- $r_i$: número de repeticiones por tratamiento $i$\n",
    "- $Y_{i.}$: suma total del tratamiento $i$\n",
    "- $Y_{..}$: suma total de todos los tratamientos\n",
    "- $N$: total de observaciones\n",
    "\n",
    "## Regla de Decisión\n",
    "\n",
    "- Si $F_{\\text{calc}} > F_{\\text{tab}}$, entonces **rechazar** $H_0$\n",
    "- Equivalente: Si $p$-valor $< \\alpha$, entonces **rechazar** $H_0$\n",
    "\n",
    "## Pruebas Post-hoc (Comparaciones Múltiples)\n",
    "\n",
    "### 1. LSD de Fisher (Diseño balanceado)\n",
    "\n",
    "$$\n",
    "LSD = t_{\\alpha/2, \\, GL_{\\text{error}}} \\cdot \\sqrt{MSE \\left( \\frac{1}{n_i} + \\frac{1}{n_j} \\right)}\n",
    "$$\n",
    "\n",
    "### 2. Tukey\n",
    "\n",
    "$$\n",
    "HSD = q_{\\alpha}(k, \\, GL_{\\text{error}}) \\cdot \\sqrt{\\frac{MSE}{n}}\n",
    "$$\n",
    "\n",
    "### 3. Scheffé\n",
    "\n",
    "$$\n",
    "S = \\sqrt{(k - 1) \\cdot F_{\\alpha}(k - 1, GL_{\\text{error}}) \\cdot \\frac{MSE}{n}}\n",
    "$$\n"
   ]
  },
  {
   "cell_type": "markdown",
   "id": "a07cc5e2",
   "metadata": {},
   "source": [
    "CODIGO EN PYTHON "
   ]
  },
  {
   "cell_type": "markdown",
   "id": "342985fb",
   "metadata": {},
   "source": [
    "ANALISIS DEL EXPERIMENTO"
   ]
  },
  {
   "cell_type": "code",
   "execution_count": 18,
   "id": "579f7a7e",
   "metadata": {},
   "outputs": [
    {
     "name": "stdout",
     "output_type": "stream",
     "text": [
      "\n",
      "Resumen del Experimento:\n",
      "Factor: marca de las baterías\n",
      "Niveles del factor: ['Marca_1', 'Marca_2', 'Marca_3']\n",
      "Tratamientos: ['T_1', 'T_2', 'T_3']\n",
      "Unidad experimental: Batería\n",
      "Variable de respuesta: Vida de la batería (semanas)\n"
     ]
    }
   ],
   "source": [
    "# Ingresar los datos del experimento\n",
    "factor = \"marca de las baterías\"\n",
    "niveles = [\"Marca_1\",\"Marca_2\",\"Marca_3\"]\n",
    "tratamientos_inp = [\"T_1\",\"T_2\",\"T_3\"]\n",
    "unidad_experimental = \"Batería\"\n",
    "variable_respuesta = \"Vida de la batería (semanas)\" \n",
    "\n",
    "# Mostrar resumen\n",
    "print(\"\\nResumen del Experimento:\")\n",
    "print(f\"Factor: {factor}\")\n",
    "print(f\"Niveles del factor: {niveles}\")\n",
    "print(f\"Tratamientos: {tratamientos_inp}\")\n",
    "print(f\"Unidad experimental: {unidad_experimental}\")\n",
    "print(f\"Variable de respuesta: {variable_respuesta}\")\n",
    "\n",
    "\n",
    "# Almacenar en un diccionario para usarlo después\n",
    "experimento = {\n",
    "    \"factor\": factor,\n",
    "    \"niveles\": niveles,\n",
    "    \"tratamientos\": tratamientos_inp,\n",
    "    \"unidad_experimental\": unidad_experimental,\n",
    "    \"variable_respuesta\": variable_respuesta\n",
    "}\n"
   ]
  },
  {
   "cell_type": "markdown",
   "id": "c0ec6a0d",
   "metadata": {},
   "source": [
    "Paso 1 : Importar librerías"
   ]
  },
  {
   "cell_type": "code",
   "execution_count": 19,
   "id": "632835b1",
   "metadata": {},
   "outputs": [],
   "source": [
    "\n",
    "# Librerias\n",
    "import pandas as pd\n",
    "import statsmodels.api as sm\n",
    "from statsmodels.formula.api import ols\n",
    "from scipy.stats import shapiro\n",
    "from scipy.stats import levene\n",
    "from statsmodels.stats.stattools import durbin_watson\n",
    "from statsmodels.stats.multicomp import pairwise_tukeyhsd\n",
    "import matplotlib.pyplot as plt\n",
    "from statsmodels.graphics.regressionplots import influence_plot\n",
    "import seaborn as sns\n",
    "import numpy as np\n",
    "from statsmodels.stats.multicomp import pairwise_tukeyhsd\n",
    "import numpy as np\n",
    "import statsmodels.api as sm\n",
    "from statsmodels.formula.api import ols\n",
    "from statsmodels.stats.api import anova_lm\n",
    "from scipy.stats import f\n"
   ]
  },
  {
   "cell_type": "markdown",
   "id": "708a303d",
   "metadata": {},
   "source": [
    "Paso 2 : Insertar lo datos con los que se va a trabajar"
   ]
  },
  {
   "cell_type": "code",
   "execution_count": 20,
   "id": "438697ab",
   "metadata": {},
   "outputs": [
    {
     "name": "stdout",
     "output_type": "stream",
     "text": [
      "   Tratamiento  Resistencia\n",
      "0           T1           80\n",
      "1           T1           75\n",
      "2           T1           65\n",
      "3           T1           78\n",
      "4           T1           60\n",
      "5           T1           76\n",
      "6           T2           45\n",
      "7           T2           45\n",
      "8           T2           50\n",
      "9           T2           55\n",
      "10          T3          100\n",
      "11          T3          110\n",
      "12          T3          120\n",
      "13          T3          115\n",
      "14          T3          120\n",
      "15          T4          170\n",
      "16          T4          160\n",
      "17          T4          165\n",
      "18          T4          150\n"
     ]
    }
   ],
   "source": [
    "#crear DataFrame\n",
    "# Datos del ejemplo (tratamiento vs resistencia)\n",
    "df = pd.DataFrame({\n",
    "    'Tratamiento': ['T1']*6 + ['T2']*4 + ['T3']*5 + ['T4']*4 ,\n",
    "    'Resistencia': [80,75,65,78,60,76,45,45,50,55,100,110,120,115,120,170,160,165,150]\n",
    "})\n",
    "print(df)\n"
   ]
  },
  {
   "cell_type": "markdown",
   "id": "eab3e6b6",
   "metadata": {},
   "source": [
    "Paso 3 :  Primer vistazo de la tabla ANOVA"
   ]
  },
  {
   "cell_type": "code",
   "execution_count": 21,
   "id": "9850d50a",
   "metadata": {},
   "outputs": [
    {
     "name": "stdout",
     "output_type": "stream",
     "text": [
      "                      sum_sq    df           F        PR(>F)\n",
      "C(Tratamiento)  30754.324561   3.0  173.785974  7.163572e-12\n",
      "Residual          884.833333  15.0         NaN           NaN\n"
     ]
    }
   ],
   "source": [
    "modelo = ols('Resistencia ~ C(Tratamiento)', data=df).fit()\n",
    "anova_table = sm.stats.anova_lm(modelo, typ=2)\n",
    "print(anova_table)"
   ]
  },
  {
   "cell_type": "markdown",
   "id": "baf77e17",
   "metadata": {},
   "source": [
    "Paso 4 : Extraccion de resiudos "
   ]
  },
  {
   "cell_type": "code",
   "execution_count": 22,
   "id": "49820b6e",
   "metadata": {},
   "outputs": [
    {
     "name": "stdout",
     "output_type": "stream",
     "text": [
      "\n",
      "Primeros residuos:\n",
      "[[  7.66666667]\n",
      " [  2.66666667]\n",
      " [ -7.33333333]\n",
      " [  5.66666667]\n",
      " [-12.33333333]\n",
      " [  3.66666667]\n",
      " [ -3.75      ]\n",
      " [ -3.75      ]\n",
      " [  1.25      ]\n",
      " [  6.25      ]\n",
      " [-13.        ]\n",
      " [ -3.        ]\n",
      " [  7.        ]\n",
      " [  2.        ]\n",
      " [  7.        ]\n",
      " [  8.75      ]\n",
      " [ -1.25      ]\n",
      " [  3.75      ]\n",
      " [-11.25      ]]\n"
     ]
    },
    {
     "data": {
      "image/png": "[encoded data removed]",
      "text/plain": [
       "<Figure size 640x480 with 1 Axes>"
      ]
     },
     "metadata": {},
     "output_type": "display_data"
    }
   ],
   "source": [
    "# Extracción de los residuales\n",
    "residuos = modelo.resid\n",
    "print(\"\\nPrimeros residuos:\")\n",
    "print(residuos.values.reshape(-1, 1))\n",
    "\n",
    "# Histograma de los residuos\n",
    "plt.hist(residuos, bins=10, edgecolor='black')\n",
    "plt.title('Histograma de Residuos')\n",
    "plt.xlabel('Residuos')\n",
    "plt.ylabel('Frecuencia')\n",
    "plt.show()\n"
   ]
  },
  {
   "cell_type": "markdown",
   "id": "173f3111",
   "metadata": {},
   "source": [
    "Paso 5 : Graficos de diagnostico"
   ]
  },
  {
   "cell_type": "code",
   "execution_count": 23,
   "id": "abc2164a",
   "metadata": {},
   "outputs": [
    {
     "data": {
      "image/png": "[encoded data removed]",
      "text/plain": [
       "<Figure size 1000x800 with 4 Axes>"
      ]
     },
     "metadata": {},
     "output_type": "display_data"
    }
   ],
   "source": [
    "# 4. Gráficos diagnósticos (similar a plot(modelo2) en R)\n",
    "fig, axes = plt.subplots(2, 2, figsize=(10, 8))\n",
    "# a) Residuos vs. Valores ajustados\n",
    "axes[0, 0].scatter(modelo.fittedvalues, residuos, color='blue')\n",
    "axes[0, 0].axhline(0, color='red', linestyle=\"--\")\n",
    "axes[0, 0].set_xlabel(\"Valores ajustados\")\n",
    "axes[0, 0].set_ylabel(\"Residuos\")\n",
    "axes[0, 0].set_title(\"Residuos vs. Valores ajustados\")\n",
    "# b) Q-Q Plot para evaluar normalidad\n",
    "sm.qqplot(residuos, line='s', ax=axes[0, 1])\n",
    "axes[0, 1].set_title(\"Q-Q Plot\")\n",
    "# c) Gráfico Scale-Location: raíz del valor absoluto de los residuos estandarizados vs. valores ajustados\n",
    "influence = modelo.get_influence()\n",
    "std_resid = influence.resid_studentized_internal\n",
    "sqrt_abs_std_resid = np.sqrt(np.abs(std_resid))\n",
    "axes[1, 0].scatter(modelo.fittedvalues, sqrt_abs_std_resid, color='green')\n",
    "axes[1, 0].set_xlabel(\"Valores ajustados\")\n",
    "axes[1, 0].set_ylabel(\"sqrt(|Residuos estandarizados|)\")\n",
    "axes[1, 0].set_title(\"Scale-Location\")\n",
    "# d) Residuos vs. Leverage (para detectar puntos influyentes)\n",
    "# d) Residuos vs. Leverage (para detectar puntos influyentes)\n",
    "influence_plot(modelo, ax=axes[1, 1], size=8)\n",
    "axes[1, 1].set_title(\"Residuos vs. Leverage\")\n",
    "\n",
    "\n",
    "plt.tight_layout()\n",
    "plt.show()\n"
   ]
  },
  {
   "cell_type": "code",
   "execution_count": 24,
   "id": "7f498716",
   "metadata": {},
   "outputs": [
    {
     "data": {
      "image/png": "[encoded data removed]",
      "text/plain": [
       "<Figure size 800x600 with 1 Axes>"
      ]
     },
     "metadata": {},
     "output_type": "display_data"
    }
   ],
   "source": [
    "# Diagrama de cajas para visualizar la distribución de la Resistencia según el Tratamiento\n",
    "plt.figure(figsize=(8, 6))\n",
    "sns.boxplot(x='Tratamiento', y='Resistencia', data=df)\n",
    "plt.title(\"Diagrama de cajas: Distribución de Resistencia por Tratamiento\")\n",
    "plt.xlabel(\"Tratamiento\")\n",
    "plt.ylabel(\"Resistencia\")\n",
    "plt.show()"
   ]
  },
  {
   "cell_type": "markdown",
   "id": "7697c628",
   "metadata": {},
   "source": [
    "\\footnotesize\n",
    "\n",
    "##  Interpretación de los Gráficos Diagnósticos del ANOVA\n",
    "\n",
    "- **Residuos vs. Valores Ajustados**:  \n",
    "  Evalúa la linealidad y homocedasticidad. Una distribución aleatoria de puntos alrededor de la línea horizontal ($y = 0$) indica que los errores son independientes y tienen varianza constante. La presencia de patrones sugiere no linealidad o heterocedasticidad.\n",
    "\n",
    "- **Q-Q Plot (Quantile-Quantile Plot)**:  \n",
    "  Compara la distribución de los residuos con una normal teórica. Si los puntos se alinean sobre la línea diagonal, se asume normalidad. Desviaciones sistemáticas indican que los residuos no son normales.\n",
    "\n",
    "- **Scale-Location (raíz de residuos estandarizados vs. valores ajustados)**:  \n",
    "  Evalúa si la varianza de los residuos es constante. Una dispersión horizontal homogénea indica homocedasticidad. Un patrón de embudo sugiere heterocedasticidad.\n",
    "\n",
    "- **Residuos vs. Leverage (gráfico de influencia)**:  \n",
    "  Identifica observaciones influyentes. Puntos con alto leverage y grandes residuos pueden afectar el modelo significativamente. Las líneas de distancia de Cook ayudan a detectar observaciones problemáticas.\n",
    "\n",
    "- **Histograma de residuos**:  \n",
    "  Permite observar la forma de la distribución de los errores. Si los residuos siguen una distribución normal, el histograma debe mostrar una forma de campana (curva gaussiana). Asimetrías o picos inusuales pueden indicar violación del supuesto de normalidad.\n",
    "\n",
    "- **Boxplot general de residuos**:  \n",
    "  Permite identificar valores atípicos (outliers) entre los residuos. Si los residuos están centrados en cero y dentro del rango intercuartílico sin demasiados puntos extremos, se refuerza la validez de los supuestos. Presencia de outliers podría indicar observaciones anómalas que afectan el modelo.\n"
   ]
  },
  {
   "cell_type": "markdown",
   "id": "232ed814",
   "metadata": {},
   "source": [
    "Paso 6: Verificar los supuestos del modelo"
   ]
  },
  {
   "cell_type": "markdown",
   "id": "abbd8d7c",
   "metadata": {},
   "source": [
    "6.1 Prueba de normalidad: Shapiro-Wilk sobre los residuales"
   ]
  },
  {
   "cell_type": "code",
   "execution_count": 25,
   "id": "ed3b46de",
   "metadata": {},
   "outputs": [
    {
     "name": "stdout",
     "output_type": "stream",
     "text": [
      "\n",
      "Resultado de la prueba de Shapiro-Wilk:\n",
      "W = 0.9086, p-value = 0.0699\n",
      "\n",
      "[Conclusión Shapiro-Wilk]: Los residuales o errores se ajustan una distribución normal (p > 0.05).\n"
     ]
    }
   ],
   "source": [
    "# Normalidad de los residuos\n",
    "shapiro_result = shapiro(residuos)\n",
    "print(\"\\nResultado de la prueba de Shapiro-Wilk:\")\n",
    "print(f\"W = {shapiro_result.statistic:.4f}, p-value = {shapiro_result.pvalue:.4f}\")\n",
    "# --- Conclusión para Shapiro-Wilk:\n",
    "if shapiro_result.pvalue > 0.05:\n",
    "    print(\"\\n[Conclusión Shapiro-Wilk]: Los residuales o errores se ajustan una distribución normal (p > 0.05).\")\n",
    "else:\n",
    "    print(\"\\n[Conclusión Shapiro-Wilk]: Los residuales o errores no se ajustan  una distribución normal (p < 0.05).\")"
   ]
  },
  {
   "cell_type": "markdown",
   "id": "f9ec818f",
   "metadata": {},
   "source": [
    "6.2 Prueba de homogeneidad de varianzas (Levene)"
   ]
  },
  {
   "cell_type": "code",
   "execution_count": 26,
   "id": "d52c5d9f",
   "metadata": {},
   "outputs": [
    {
     "name": "stdout",
     "output_type": "stream",
     "text": [
      "\n",
      "Resultado de la prueba de Levene (centro = mediana):\n",
      "LeveneResult(statistic=np.float64(0.20267853150292894), pvalue=np.float64(0.8929202001510861))\n",
      "\n",
      "Resultado de la prueba de Levene (centro = media):\n",
      "LeveneResult(statistic=np.float64(0.5431472222790354), pvalue=np.float64(0.6601604369129943))\n",
      "\n",
      "[Conclusión Levene]: Se acepta la homogeneidad de varianzas entre los grupos (p > 0.05).\n"
     ]
    }
   ],
   "source": [
    "#Homogeneidad de varianzas (Levene)\n",
    "# Se separan los datos por grupo (tratamiento)\n",
    "lista_grupos = [df.loc[df[\"Tratamiento\"] == trat, \"Resistencia\"] \n",
    "                for trat in df[\"Tratamiento\"].unique()]\n",
    "\n",
    "levene_median = levene(*lista_grupos, center='median')\n",
    "levene_mean   = levene(*lista_grupos, center='mean')\n",
    "print(\"\\nResultado de la prueba de Levene (centro = mediana):\")\n",
    "print(levene_median)\n",
    "print(\"\\nResultado de la prueba de Levene (centro = media):\")\n",
    "print(levene_mean)\n",
    "## --- Conclusión para Levene:\n",
    "if levene_mean.pvalue > 0.05 and levene_median.pvalue > 0.05:\n",
    "    print(\"\\n[Conclusión Levene]: Se acepta la homogeneidad de varianzas entre los grupos (p > 0.05).\")\n",
    "else:\n",
    "    print(\"\\n[Conclusión Levene]: No se cumple la homogeneidad de varianzas (p < 0.05).\")\n"
   ]
  },
  {
   "cell_type": "markdown",
   "id": "c4880c1c",
   "metadata": {},
   "source": [
    "6.3 Prueba de independencia: estadístico de Durbin-Watson"
   ]
  },
  {
   "cell_type": "code",
   "execution_count": 27,
   "id": "9f620c65",
   "metadata": {},
   "outputs": [
    {
     "name": "stdout",
     "output_type": "stream",
     "text": [
      "\n",
      "Estadístico de Durbin-Watson:\n",
      "2.2067793683681782\n",
      "\n",
      "[Conclusión Durbin-Watson]: No se detecta autocorrelación en los residuales (valor cercano a 2).\n",
      "se tiene evidencia estadisica para afirmar que hay independicia entre los residuos a un nivel significancia del 5%.\n"
     ]
    }
   ],
   "source": [
    "dw = durbin_watson(residuos)\n",
    "print(\"\\nEstadístico de Durbin-Watson:\")\n",
    "print(dw)\n",
    "# --- Conclusión Durbin-Watson:\n",
    "if 1.5 <= dw <= 2.5:\n",
    "    print(\"\\n[Conclusión Durbin-Watson]: No se detecta autocorrelación en los residuales (valor cercano a 2).\")\n",
    "    print(\"se tiene evidencia estadisica para afirmar que hay independicia entre los residuos a un nivel significancia del 5%.\")\n",
    "else:\n",
    "    print(\"\\n[Conclusión Durbin-Watson]: Posibles indicios de autocorrelación en los residuales.\")"
   ]
  },
  {
   "cell_type": "markdown",
   "id": "d2582e8d",
   "metadata": {},
   "source": [
    "Paso 7 : Confrimacion de la tabla ANOVA e interpretación"
   ]
  },
  {
   "cell_type": "markdown",
   "id": "784ef700",
   "metadata": {},
   "source": [
    "Dado se que cumplen los supuestos de un DCA entonces podemos aplicar ANOVA"
   ]
  },
  {
   "cell_type": "code",
   "execution_count": 28,
   "id": "14154601",
   "metadata": {},
   "outputs": [
    {
     "name": "stdout",
     "output_type": "stream",
     "text": [
      "\n",
      "Tabla ANOVA (confirmación):\n",
      "                      sum_sq    df           F        PR(>F)\n",
      "C(Tratamiento)  30754.324561   3.0  173.785974  7.163572e-12\n",
      "Residual          884.833333  15.0         NaN           NaN\n"
     ]
    }
   ],
   "source": [
    "# 8. Confirmación de la tabla ANOVA\n",
    "print(\"\\nTabla ANOVA (confirmación):\")\n",
    "print(anova_table)"
   ]
  },
  {
   "cell_type": "code",
   "execution_count": 29,
   "id": "f92e720c",
   "metadata": {},
   "outputs": [
    {
     "name": "stdout",
     "output_type": "stream",
     "text": [
      "\n",
      " Interpretación de la Tabla ANOVA :\n",
      "p-valor obtenido: 7.16357e-12\n",
      "Nivel de significación (alpha): 0.05\n",
      "\n",
      "Explicación:\n",
      "La prueba ANOVA compara la variabilidad entre los tratamientos con la variabilidad dentro de los tratamientos.\n",
      "El valor p obtenido nos indica la probabilidad de observar un efecto tan grande como el observado si la hipótesis nula es cierta.\n",
      "\n",
      "Conclusión: Como el p-valor (7.16357e-12) es menor que el nivel de significación (0.05), se RECHAZA la hipótesis nula (H₀).\n",
      "Esto sugiere que hay suficiente evidencia estadística para afirmar que al menos uno de los tratamientos \n",
      " tiene un efecto significativo sobre la variable de respuesta.\n",
      "Es decir, el factor 'marca de las baterías' afecta significativamente la variable de respuesta 'Vida de la batería (semanas)'.\n",
      "\n",
      "Este resultado implica que las diferencias entre los tratamientos son estadísticamente significativas y no se deben al azar.\n",
      "Por lo tanto, se recomienda proceder con comparaciones post-hoc para identificar qué tratamientos \n",
      " son significativamente diferentes entre sí.\n",
      "\n",
      "Resumen:\n",
      "Si el p-valor es menor que 0.05, se rechaza la hipótesis nula y concluimos que el factor tiene un efecto significativo.\n",
      "Si el p-valor es mayor o igual que {alpha:.2f}, no podemos rechazar la hipótesis nula, lo que indica que el factor no tiene un efecto significativo.\n"
     ]
    },
    {
     "name": "stderr",
     "output_type": "stream",
     "text": [
      "C:\\Users\\Cesar_2borgbt\\AppData\\Local\\Temp\\ipykernel_8032\\1933677310.py:5: FutureWarning: Series.__getitem__ treating keys as positions is deprecated. In a future version, integer keys will always be treated as labels (consistent with DataFrame behavior). To access a value by position, use `ser.iloc[pos]`\n",
      "  p_valor = anova_table['PR(>F)'][0]  # Asumimos que la fila de interés es \"C(Tratamiento)\"\n"
     ]
    }
   ],
   "source": [
    "# Nivel de significación\n",
    "alpha = 0.05\n",
    "\n",
    "# p-valor de la tabla ANOVA (usando la primera fila y la columna 'PR(>F)')\n",
    "p_valor = anova_table['PR(>F)'][0]  # Asumimos que la fila de interés es \"C(Tratamiento)\"\n",
    "\n",
    "# Interpretar la tabla ANOVA\n",
    "print(\"\\n Interpretación de la Tabla ANOVA :\")\n",
    "print(f\"p-valor obtenido: {p_valor:.5e}\")\n",
    "print(f\"Nivel de significación (alpha): {alpha:.2f}\")\n",
    "\n",
    "# Explicación detallada\n",
    "print(\"\\nExplicación:\")\n",
    "print(\"La prueba ANOVA compara la variabilidad entre los tratamientos con la variabilidad dentro de los tratamientos.\")\n",
    "print(\"El valor p obtenido nos indica la probabilidad de observar un efecto tan grande como el observado si la hipótesis nula es cierta.\")\n",
    "\n",
    "if p_valor < alpha:\n",
    "    print(f\"\\nConclusión: Como el p-valor ({p_valor:.5e}) es menor que el nivel de significación ({alpha:.2f}), se RECHAZA la hipótesis nula (H₀).\")\n",
    "    print(\"Esto sugiere que hay suficiente evidencia estadística para afirmar que al menos uno de los tratamientos \\n tiene un efecto significativo sobre la variable de respuesta.\")\n",
    "    print(\"Es decir, el factor '{}' afecta significativamente la variable de respuesta '{}'.\".format(\n",
    "          experimento[\"factor\"], experimento[\"variable_respuesta\"]))\n",
    "    print(\"\\nEste resultado implica que las diferencias entre los tratamientos son estadísticamente significativas y no se deben al azar.\")\n",
    "    print(\"Por lo tanto, se recomienda proceder con comparaciones post-hoc para identificar qué tratamientos \\n son significativamente diferentes entre sí.\")\n",
    "\n",
    "else:\n",
    "    print(f\"\\nConclusión: Como el p-valor ({p_valor:.5e}) es mayor o igual que el nivel de significación ({alpha:.2f}), NO se rechaza la hipótesis nula (H₀).\")\n",
    "    print(\"Esto sugiere que no hay suficiente evidencia estadística para afirmar que el factor '{}' tiene un efecto significativo  \\n sobre la variable de respuesta '{}'.\".format(\n",
    "          experimento[\"factor\"], experimento[\"variable_respuesta\"]))\n",
    "    print(\"\\nEste resultado implica que las diferencias observadas entre los tratamientos podrían ser debidas al azar, y no a un efecto real del factor.\")\n",
    "    print(\"En este caso, no se recomienda proceder con comparaciones post-hoc, ya que no se \\n  encontró evidencia suficiente para justificar que los tratamientos difieren significativamente.\")\n",
    "\n",
    "# Resumen adicional de la interpretación\n",
    "print(\"\\nResumen:\")\n",
    "print(f\"Si el p-valor es menor que {alpha:.2f}, se rechaza la hipótesis nula y concluimos que el factor tiene un efecto significativo.\")\n",
    "print(\"Si el p-valor es mayor o igual que {alpha:.2f}, no podemos rechazar la hipótesis nula, lo que indica que el factor no tiene un efecto significativo.\")\n"
   ]
  },
  {
   "cell_type": "markdown",
   "id": "758efeab",
   "metadata": {},
   "source": [
    "Paso 8 : Comparaciones múltiples de medias"
   ]
  },
  {
   "cell_type": "markdown",
   "id": "85f77181",
   "metadata": {},
   "source": [
    "8.1 Prueba de Diferencia Mínima Significativa (LSD) de Fisher:"
   ]
  },
  {
   "cell_type": "code",
   "execution_count": 30,
   "id": "33e2d3f0",
   "metadata": {},
   "outputs": [
    {
     "name": "stdout",
     "output_type": "stream",
     "text": [
      "Comparación T1 vs T2: t = 5.259, p = 0.0008\n",
      "  RECHAZAMOS H₀: Diferencia significativa entre 'T1' y 'T2'.\n",
      "Comparación T1 vs T3: t = -8.244, p = 0.0000\n",
      "  RECHAZAMOS H₀: Diferencia significativa entre 'T1' y 'T3'.\n",
      "Comparación T1 vs T4: t = -16.827, p = 0.0000\n",
      "  RECHAZAMOS H₀: Diferencia significativa entre 'T1' y 'T4'.\n",
      "Comparación T2 vs T3: t = -13.569, p = 0.0000\n",
      "  RECHAZAMOS H₀: Diferencia significativa entre 'T2' y 'T3'.\n",
      "Comparación T2 vs T4: t = -22.984, p = 0.0000\n",
      "  RECHAZAMOS H₀: Diferencia significativa entre 'T2' y 'T4'.\n",
      "Comparación T3 vs T4: t = -8.521, p = 0.0001\n",
      "  RECHAZAMOS H₀: Diferencia significativa entre 'T3' y 'T4'.\n",
      "\n",
      "Total comparaciones: 6\n",
      "Significativas (p < 0.05): 6\n",
      "No significativas (p ≥ 0.05): 0\n"
     ]
    }
   ],
   "source": [
    "# Agrupar y convertir a diccionario\n",
    "group_dict = df.groupby(\"Tratamiento\")[\"Resistencia\"].apply(list).to_dict()\n",
    "from itertools import combinations\n",
    "from scipy.stats import ttest_ind  # Importar ttest_ind para realizar la prueba t\n",
    "\n",
    "# Nivel de significancia\n",
    "alpha = 0.05\n",
    "\n",
    "# Contadores para comparaciones significativas y no significativas\n",
    "significativas = 0\n",
    "no_significativas = 0\n",
    "\n",
    "# Comparaciones\n",
    "for (grupo1, valores1), (grupo2, valores2) in combinations(group_dict.items(), 2):\n",
    "    t_stat, p_value = ttest_ind(valores1, valores2, equal_var=True)\n",
    "    print(f\"Comparación {grupo1} vs {grupo2}: t = {t_stat:.3f}, p = {p_value:.4f}\")\n",
    "    \n",
    "    # Conclusión basada en el p-valor\n",
    "    if p_value < alpha:\n",
    "        print(f\"  RECHAZAMOS H₀: Diferencia significativa entre '{grupo1}' y '{grupo2}'.\")\n",
    "        significativas += 1\n",
    "    else:\n",
    "        print(f\"  NO RECHAZAMOS H₀: No hay diferencia significativa entre '{grupo1}' y '{grupo2}'.\")\n",
    "        no_significativas += 1\n",
    "\n",
    "# Resumen final\n",
    "print(f\"\\nTotal comparaciones: {significativas + no_significativas}\")\n",
    "print(f\"Significativas (p < {alpha}): {significativas}\")\n",
    "print(f\"No significativas (p ≥ {alpha}): {no_significativas}\")\n"
   ]
  },
  {
   "cell_type": "markdown",
   "id": "0ed208ff",
   "metadata": {},
   "source": [
    "8.2 Prueba de Tukey para comparaciones múltiples"
   ]
  },
  {
   "cell_type": "code",
   "execution_count": 31,
   "id": "35df0e97",
   "metadata": {},
   "outputs": [
    {
     "name": "stdout",
     "output_type": "stream",
     "text": [
      "\n",
      "Resultado de la prueba de Tukey:\n",
      " Multiple Comparison of Means - Tukey HSD, FWER=0.05  \n",
      "======================================================\n",
      "group1 group2 meandiff p-adj   lower    upper   reject\n",
      "------------------------------------------------------\n",
      "    T1     T2 -23.5833 0.0013 -37.8721  -9.2945   True\n",
      "    T1     T3  40.6667    0.0  27.2626  54.0708   True\n",
      "    T1     T4  88.9167    0.0  74.6279 103.2055   True\n",
      "    T2     T3    64.25    0.0  49.4006  79.0994   True\n",
      "    T2     T4    112.5    0.0  96.8474 128.1526   True\n",
      "    T3     T4    48.25    0.0  33.4006  63.0994   True\n",
      "------------------------------------------------------\n",
      "\n",
      "Interpretación de los resultados de la prueba de Tukey:\n",
      "  Comparación entre T1 y T2: Diferencia significativa (p = -9.2945).\n",
      "  Esto sugiere que las medias de 'T1' y 'T2' son significativamente diferentes en cuanto a la resistencia.\n",
      "  Comparación entre T1 y T3: No significativa (p = 54.0708).\n",
      "  No hay evidencia suficiente para afirmar que las medias de 'T1' y 'T3' son diferentes.\n",
      "  Comparación entre T1 y T4: No significativa (p = 103.2055).\n",
      "  No hay evidencia suficiente para afirmar que las medias de 'T1' y 'T4' son diferentes.\n",
      "  Comparación entre T2 y T3: No significativa (p = 79.0994).\n",
      "  No hay evidencia suficiente para afirmar que las medias de 'T2' y 'T3' son diferentes.\n",
      "  Comparación entre T2 y T4: No significativa (p = 128.1526).\n",
      "  No hay evidencia suficiente para afirmar que las medias de 'T2' y 'T4' son diferentes.\n",
      "  Comparación entre T3 y T4: No significativa (p = 63.0994).\n",
      "  No hay evidencia suficiente para afirmar que las medias de 'T3' y 'T4' son diferentes.\n"
     ]
    }
   ],
   "source": [
    "\n",
    "# Realizar la prueba de Tukey\n",
    "print(\"\\nResultado de la prueba de Tukey:\")\n",
    "tukey = pairwise_tukeyhsd(endog=df[\"Resistencia\"],\n",
    "                          groups=df[\"Tratamiento\"],\n",
    "                          alpha=0.05)\n",
    "\n",
    "# Mostrar el resumen de los resultados de Tukey\n",
    "print(tukey.summary())\n",
    "\n",
    "# Interpretación de los resultados de la prueba de Tukey\n",
    "print(\"\\nInterpretación de los resultados de la prueba de Tukey:\")\n",
    "\n",
    "# Recorremos las comparaciones realizadas\n",
    "for result in tukey.summary().data[1:]:\n",
    "    grupo1, grupo2, diferencia, p_value = result[0], result[1], result[2], result[5]\n",
    "    \n",
    "    # Interpretar según el p-valor\n",
    "    if p_value < 0.05:\n",
    "        print(f\"  Comparación entre {grupo1} y {grupo2}: Diferencia significativa (p = {p_value:.4f}).\")\n",
    "        print(f\"  Esto sugiere que las medias de '{grupo1}' y '{grupo2}' son significativamente diferentes en cuanto a la resistencia.\")\n",
    "    else:\n",
    "        print(f\"  Comparación entre {grupo1} y {grupo2}: No significativa (p = {p_value:.4f}).\")\n",
    "        print(f\"  No hay evidencia suficiente para afirmar que las medias de '{grupo1}' y '{grupo2}' son diferentes.\")\n"
   ]
  },
  {
   "cell_type": "markdown",
   "id": "1ae13e8c",
   "metadata": {},
   "source": [
    "8.3 Prueba de Scheffé"
   ]
  },
  {
   "cell_type": "code",
   "execution_count": 32,
   "id": "c765c7c4",
   "metadata": {},
   "outputs": [
    {
     "name": "stdout",
     "output_type": "stream",
     "text": [
      "Resultados ANOVA:\n",
      "               df        sum_sq       mean_sq           F        PR(>F)\n",
      "Tratamiento   3.0  30754.324561  10251.441520  173.785974  7.163572e-12\n",
      "Residual     15.0    884.833333     58.988889         NaN           NaN\n",
      "\n",
      "Comparación entre T1 y T2:\n",
      "Diferencia de medias: 23.5833\n",
      "F-valor calculado: 89.5702, p-valor: 0.0025\n",
      "  RECHAZAMOS la hipótesis nula: hay una diferencia significativa.\n",
      "\n",
      "Comparación entre T1 y T3:\n",
      "Diferencia de medias: 40.6667\n",
      "F-valor calculado: 266.3364, p-valor: 0.0005\n",
      "  RECHAZAMOS la hipótesis nula: hay una diferencia significativa.\n",
      "\n",
      "Comparación entre T1 y T4:\n",
      "Diferencia de medias: 88.9167\n",
      "F-valor calculado: 1273.2677, p-valor: 0.0000\n",
      "  RECHAZAMOS la hipótesis nula: hay una diferencia significativa.\n",
      "\n",
      "Comparación entre T2 y T3:\n",
      "Diferencia de medias: 64.2500\n",
      "F-valor calculado: 664.8132, p-valor: 0.0001\n",
      "  RECHAZAMOS la hipótesis nula: hay una diferencia significativa.\n",
      "\n",
      "Comparación entre T2 y T4:\n",
      "Diferencia de medias: 112.5000\n",
      "F-valor calculado: 2038.2546, p-valor: 0.0000\n",
      "  RECHAZAMOS la hipótesis nula: hay una diferencia significativa.\n",
      "\n",
      "Comparación entre T3 y T4:\n",
      "Diferencia de medias: 48.2500\n",
      "F-valor calculado: 374.9281, p-valor: 0.0003\n",
      "  RECHAZAMOS la hipótesis nula: hay una diferencia significativa.\n"
     ]
    }
   ],
   "source": [
    "\n",
    "# Ajuste del modelo ANOVA\n",
    "modelo = ols('Resistencia ~ Tratamiento', data=df).fit()\n",
    "\n",
    "# Realizar el análisis de varianza (ANOVA)\n",
    "anova_resultado = anova_lm(modelo)\n",
    "print(\"Resultados ANOVA:\")\n",
    "print(anova_resultado)\n",
    "\n",
    "# Extraer el error cuadrático medio (MSE)\n",
    "MSE = anova_resultado['mean_sq']['Residual']\n",
    "\n",
    "# Calcular la raíz cuadrada del MSE\n",
    "sqrt_MSE = np.sqrt(MSE)\n",
    "\n",
    "# Obtener las medias de los tratamientos\n",
    "medias = df.groupby(\"Tratamiento\")[\"Resistencia\"].mean()\n",
    "\n",
    "# Número de tratamientos\n",
    "n_tratamientos = len(medias)\n",
    "\n",
    "# Realizar comparaciones entre los tratamientos\n",
    "for i in range(n_tratamientos):\n",
    "    for j in range(i + 1, n_tratamientos):\n",
    "        # Comparación entre los tratamientos i y j\n",
    "        diff = abs(medias.iloc[i] - medias.iloc[j])\n",
    "        F = (diff**2) / (MSE * (2 / len(df)))  # Fórmula de Scheffé para el F-valor\n",
    "        \n",
    "        # Calcular el p-valor usando la distribución F\n",
    "        p_value = 1 - f.cdf(F, 1, n_tratamientos - 1)  # Usamos la distribución F para calcular el p-valor\n",
    "\n",
    "        # Imprimir los resultados de la comparación\n",
    "        print(f\"\\nComparación entre {medias.index[i]} y {medias.index[j]}:\")\n",
    "        print(f\"Diferencia de medias: {diff:.4f}\")\n",
    "        print(f\"F-valor calculado: {F:.4f}, p-valor: {p_value:.4f}\")\n",
    "\n",
    "        # Interpretación basada en el p-valor\n",
    "        if p_value < 0.05:\n",
    "            print(\"  RECHAZAMOS la hipótesis nula: hay una diferencia significativa.\")\n",
    "        else:\n",
    "            print(\"  NO RECHAZAMOS la hipótesis nula: no hay diferencia significativa.\")\n"
   ]
  }
 ],
 "metadata": {
  "kernelspec": {
   "display_name": "Python 3",
   "language": "python",
   "name": "python3"
  },
  "language_info": {
   "codemirror_mode": {
    "name": "ipython",
    "version": 3
   },
   "file_extension": ".py",
   "mimetype": "text/x-python",
   "name": "python",
   "nbconvert_exporter": "python",
   "pygments_lexer": "ipython3",
   "version": "3.13.2"
  }
 },
 "nbformat": 4,
 "nbformat_minor": 5
}
